{
 "cells": [
  {
   "cell_type": "code",
   "execution_count": 1,
   "id": "young-privilege",
   "metadata": {},
   "outputs": [],
   "source": [
    "from SpeechRecognizer import AudioStreamer\n",
    "import numpy as np\n",
    "import pyaudio\n",
    "\n",
    "from transformers import Wav2Vec2Tokenizer, Wav2Vec2ForCTC\n",
    "import torch"
   ]
  },
  {
   "cell_type": "code",
   "execution_count": 2,
   "id": "pending-representative",
   "metadata": {},
   "outputs": [],
   "source": [
    "tokenizer = Wav2Vec2Tokenizer.from_pretrained(\"facebook/wav2vec2-base-960h\")\n",
    "model = Wav2Vec2ForCTC.from_pretrained(\"facebook/wav2vec2-base-960h\")"
   ]
  },
  {
   "cell_type": "code",
   "execution_count": 3,
   "id": "intensive-friend",
   "metadata": {},
   "outputs": [],
   "source": [
    "def transcribe(audio_input, tokenizer, model):\n",
    "    input_values = tokenizer(audio_input, return_tensors=\"pt\").input_values\n",
    "    logits = model(input_values).logits\n",
    "    predicted_ids = torch.argmax(logits, dim=-1)\n",
    "    transcription = tokenizer.batch_decode(predicted_ids)[0]\n",
    "    return transcription"
   ]
  },
  {
   "cell_type": "code",
   "execution_count": 4,
   "id": "little-advance",
   "metadata": {},
   "outputs": [],
   "source": [
    "# Audio recording parameters\n",
    "SAMPLE_RATE = 16000\n",
    "CHUNK = int(SAMPLE_RATE / 10)  # 100ms\n",
    "PA_FORMAT = pyaudio.paFloat32"
   ]
  },
  {
   "cell_type": "code",
   "execution_count": 6,
   "id": "musical-bleeding",
   "metadata": {},
   "outputs": [
    {
     "name": "stdout",
     "output_type": "stream",
     "text": [
      "0 (1600,)\n",
      "1 (3200,)\n",
      "2 (4800,)\n",
      "3 (6400,)\n",
      "4 (8000,)\n",
      "5 (9600,)\n",
      "6 (11200,)\n",
      "7 (12800,)\n",
      "8 (14400,)\n",
      "9 (16000,)\n",
      "10 (17600,)\n",
      "11 (19200,)\n",
      "12 (20800,)\n",
      "13 (22400,)\n",
      "14 (24000,)\n",
      "15 (25600,)\n",
      "16 (27200,)\n",
      "17 (28800,)\n",
      "18 (30400,)\n",
      "19 (32000,)\n",
      "20 (33600,)\n",
      "21 (35200,)\n",
      "22 (36800,)\n",
      "23 (38400,)\n",
      "24 (40000,)\n",
      "25 (41600,)\n",
      "26 (43200,)\n",
      "27 (44800,)\n",
      "28 (46400,)\n",
      "29 (48000,)\n",
      "30 (49600,)\n",
      "31 (51200,)\n",
      "32 (52800,)\n",
      "33 (54400,)\n",
      "34 (56000,)\n",
      "35 (57600,)\n",
      "36 (59200,)\n",
      "37 (60800,)\n",
      "38 (62400,)\n",
      "39 (64000,)\n",
      "40 (65600,)\n",
      "41 (67200,)\n",
      "42 (68800,)\n",
      "43 (70400,)\n",
      "44 (72000,)\n",
      "45 (73600,)\n",
      "46 (75200,)\n",
      "47 (76800,)\n",
      "48 (78400,)\n",
      "49 (80000,)\n",
      "50 (81600,)\n",
      "ABLES DEVELOPERS TO SYMTHESIZE NATURAL SOUNDING SPEECH WITH ONE HUNDRED PLUS VOICES AVAIL\n"
     ]
    }
   ],
   "source": [
    "with AudioStreamer(SAMPLE_RATE, CHUNK, PA_FORMAT) as audio_streamer:\n",
    "    data = np.array([], dtype=np.float32)\n",
    "    for i, content in enumerate(audio_streamer.stream()):\n",
    "        data = np.hstack((data, np.frombuffer(content, np.float32)))\n",
    "        print(i, data.shape)\n",
    "        if i == 50:\n",
    "            print(transcribe(data, tokenizer, model))\n",
    "            data = np.array([], dtype=np.float32)\n",
    "            break"
   ]
  },
  {
   "cell_type": "code",
   "execution_count": null,
   "id": "velvet-parade",
   "metadata": {},
   "outputs": [],
   "source": []
  }
 ],
 "metadata": {
  "kernelspec": {
   "display_name": "Python 3",
   "language": "python",
   "name": "python3"
  },
  "language_info": {
   "codemirror_mode": {
    "name": "ipython",
    "version": 3
   },
   "file_extension": ".py",
   "mimetype": "text/x-python",
   "name": "python",
   "nbconvert_exporter": "python",
   "pygments_lexer": "ipython3",
   "version": "3.8.5"
  }
 },
 "nbformat": 4,
 "nbformat_minor": 5
}
