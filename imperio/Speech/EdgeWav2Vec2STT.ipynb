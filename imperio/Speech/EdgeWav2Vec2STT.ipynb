{
 "cells": [
  {
   "cell_type": "code",
   "execution_count": null,
   "id": "rational-answer",
   "metadata": {},
   "outputs": [],
   "source": [
    "from AudioStreamer import AudioStreamer\n",
    "import numpy as np\n",
    "import pyaudio\n",
    "\n",
    "from transformers import Wav2Vec2Tokenizer, Wav2Vec2ForCTC\n",
    "import torch"
   ]
  },
  {
   "cell_type": "code",
   "execution_count": null,
   "id": "intimate-place",
   "metadata": {},
   "outputs": [],
   "source": [
    "tokenizer = Wav2Vec2Tokenizer.from_pretrained(\"facebook/wav2vec2-base-960h\")\n",
    "model = Wav2Vec2ForCTC.from_pretrained(\"facebook/wav2vec2-base-960h\")"
   ]
  },
  {
   "cell_type": "code",
   "execution_count": null,
   "id": "continuing-surgery",
   "metadata": {},
   "outputs": [],
   "source": [
    "def transcribe(audio_input, model, tokenizer):\n",
    "    input_values = tokenizer(audio_input, return_tensors=\"pt\").input_values\n",
    "    logits = model(input_values).logits\n",
    "    predicted_ids = torch.argmax(logits, dim=-1)\n",
    "    transcription = tokenizer.batch_decode(predicted_ids)[0]\n",
    "    return transcription"
   ]
  },
  {
   "cell_type": "code",
   "execution_count": null,
   "id": "turned-album",
   "metadata": {},
   "outputs": [],
   "source": [
    "# Audio recording parameters\n",
    "SAMPLE_RATE = 16000\n",
    "CHUNK = int(SAMPLE_RATE / 10)  # 100ms\n",
    "PA_FORMAT = pyaudio.paFloat32\n",
    "\n",
    "STREAM_CHUNK = 50\n",
    "STREAM_OVERLAP = 5\n",
    "STREAM_SILENCE = 5"
   ]
  },
  {
   "cell_type": "code",
   "execution_count": null,
   "id": "reduced-circulation",
   "metadata": {},
   "outputs": [],
   "source": [
    "with AudioStreamer(SAMPLE_RATE, CHUNK, PA_FORMAT) as audio_streamer:\n",
    "    data = np.array([], dtype=np.float32)\n",
    "    for i, content in enumerate(audio_streamer.stream()):\n",
    "        cur_data = np.frombuffer(content, np.float32)\n",
    "        data = np.hstack((data, cur_data))\n",
    "        # print(i, data.shape)\n",
    "        if (i+1)%STREAM_CHUNK == 0:\n",
    "            text = transcribe(data, model, tokenizer)\n",
    "            print(i+1, text)\n",
    "            print(data.shape, data[-STREAM_SILENCE*len(cur_data):].shape)\n",
    "            check_silence = transcribe(data[-STREAM_SILENCE*len(cur_data):], model, tokenizer)\n",
    "            if check_silence.strip() == \"\":\n",
    "                print(\"No transcriptions. Breaking away.\")\n",
    "                data = np.array([], dtype=np.float32)\n",
    "                continue\n",
    "            data = data[-STREAM_OVERLAP*len(cur_data):]"
   ]
  },
  {
   "cell_type": "code",
   "execution_count": null,
   "id": "electoral-cemetery",
   "metadata": {},
   "outputs": [],
   "source": []
  }
 ],
 "metadata": {
  "kernelspec": {
   "display_name": "Python 3",
   "language": "python",
   "name": "python3"
  },
  "language_info": {
   "codemirror_mode": {
    "name": "ipython",
    "version": 3
   },
   "file_extension": ".py",
   "mimetype": "text/x-python",
   "name": "python",
   "nbconvert_exporter": "python",
   "pygments_lexer": "ipython3",
   "version": "3.8.5"
  }
 },
 "nbformat": 4,
 "nbformat_minor": 5
}
